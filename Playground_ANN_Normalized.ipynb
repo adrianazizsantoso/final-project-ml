{
  "cells": [
    {
      "cell_type": "code",
      "execution_count": null,
      "metadata": {
        "id": "MRaGMO6kCLc5"
      },
      "outputs": [],
      "source": [
        "# Kode berikut mengimpor berbagai pustaka dan fungsi yang diperlukan untuk membangun dan mengevaluasi Artificial Neural Networks (ANN) di Google Colab.\n",
        "import numpy as np                              # Mengimpor pustaka NumPy, yang menyediakan alat yang kuat untuk komputasi numerik dan manipulasi array.\n",
        "import pandas as pd                             # Mengimpor pustaka Pandas, digunakan untuk manipulasi dan analisis data, terutama bekerja dengan data tabular.\n",
        "from sklearn.preprocessing import MinMaxScaler  # Mengimpor kelas MinMaxScaler dari scikit-learn, digunakan untuk menskalakan fitur numerik ke rentang tertentu\n",
        "                                                # (biasanya antara 0 dan 1), yang sering membantu meningkatkan kinerja jaringan saraf.\n",
        "from keras.models import Sequential             # Mengimpor kelas Sequential dari Keras, yang digunakan untuk membangun Artificial Neural Networks (ANN).\n",
        "from keras.layers import Dense                  # Mengimpor kelas layer Dense dari Keras, yang digunakan untuk membuat layer terhubung sepenuhnya di jaringan.\n",
        "from keras.optimizers import Adam               # Mengimpor pengoptimal Adam dari Keras, yaitu algoritma optimasi populer yang digunakan untuk melatih jaringan saraf.\n",
        "from sklearn.metrics import mean_squared_error, mean_absolute_percentage_error, r2_score\n",
        "# Mengimpor berbagai metrik evaluasi dari scikit-learn untuk menilai kinerja model yang telah dilatih.\n",
        "import matplotlib.pyplot as plt                 # Mengimpor pustaka Matplotlib, digunakan untuk membuat visualisasi dan plot.\n",
        "from math import sqrt                           # Mengimpor fungsi sqrt dari modul matematika, digunakan untuk menghitung akar kuadrat\n",
        "                                                # (kemungkinan untuk mengevaluasi kesalahan kuadrat akar rata-rata)."
      ]
    },
    {
      "cell_type": "code",
      "execution_count": null,
      "metadata": {
        "colab": {
          "base_uri": "https://localhost:8080/",
          "height": 237
        },
        "id": "_j5eEXJCC6gs",
        "outputId": "380003e3-ce2d-4469-a38e-0b2977e41818"
      },
      "outputs": [
        {
          "data": {
            "application/vnd.google.colaboratory.intrinsic+json": {
              "summary": "{\n  \"name\": \"data_rnn\",\n  \"rows\": 5670,\n  \"fields\": [\n    {\n      \"column\": \"timestamp\",\n      \"properties\": {\n        \"dtype\": \"date\",\n        \"min\": \"2001-04-16 00:00:00\",\n        \"max\": \"2023-01-06 00:00:00\",\n        \"num_unique_values\": 5670,\n        \"samples\": [\n          \"2014-10-24 00:00:00\",\n          \"2016-06-29 00:00:00\",\n          \"2008-05-30 00:00:00\"\n        ],\n        \"semantic_type\": \"\",\n        \"description\": \"\"\n      }\n    },\n    {\n      \"column\": \"open\",\n      \"properties\": {\n        \"dtype\": \"number\",\n        \"std\": 7583,\n        \"min\": 452,\n        \"max\": 32587,\n        \"num_unique_values\": 1104,\n        \"samples\": [\n          14816,\n          9475,\n          29728\n        ],\n        \"semantic_type\": \"\",\n        \"description\": \"\"\n      }\n    },\n    {\n      \"column\": \"low\",\n      \"properties\": {\n        \"dtype\": \"number\",\n        \"std\": 7479,\n        \"min\": 452,\n        \"max\": 31634,\n        \"num_unique_values\": 1156,\n        \"samples\": [\n          11325,\n          13196,\n          2834\n        ],\n        \"semantic_type\": \"\",\n        \"description\": \"\"\n      }\n    },\n    {\n      \"column\": \"high\",\n      \"properties\": {\n        \"dtype\": \"number\",\n        \"std\": 7698,\n        \"min\": 452,\n        \"max\": 33635,\n        \"num_unique_values\": 1177,\n        \"samples\": [\n          2858,\n          14745,\n          2096\n        ],\n        \"semantic_type\": \"\",\n        \"description\": \"\"\n      }\n    },\n    {\n      \"column\": \"close\",\n      \"properties\": {\n        \"dtype\": \"number\",\n        \"std\": 7586,\n        \"min\": 452,\n        \"max\": 32396,\n        \"num_unique_values\": 1160,\n        \"samples\": [\n          23892,\n          9450,\n          8146\n        ],\n        \"semantic_type\": \"\",\n        \"description\": \"\"\n      }\n    },\n    {\n      \"column\": \"volume\",\n      \"properties\": {\n        \"dtype\": \"number\",\n        \"std\": 4282092,\n        \"min\": 0,\n        \"max\": 133371321,\n        \"num_unique_values\": 4649,\n        \"samples\": [\n          1041900,\n          1609380,\n          2149863\n        ],\n        \"semantic_type\": \"\",\n        \"description\": \"\"\n      }\n    }\n  ]\n}",
              "type": "dataframe",
              "variable_name": "data_rnn"
            },
            "text/html": [
              "\n",
              "  <div id=\"df-04fb5de6-4446-401f-ade4-291bb1238b79\" class=\"colab-df-container\">\n",
              "    <div>\n",
              "<style scoped>\n",
              "    .dataframe tbody tr th:only-of-type {\n",
              "        vertical-align: middle;\n",
              "    }\n",
              "\n",
              "    .dataframe tbody tr th {\n",
              "        vertical-align: top;\n",
              "    }\n",
              "\n",
              "    .dataframe thead th {\n",
              "        text-align: right;\n",
              "    }\n",
              "</style>\n",
              "<table border=\"1\" class=\"dataframe\">\n",
              "  <thead>\n",
              "    <tr style=\"text-align: right;\">\n",
              "      <th></th>\n",
              "      <th>open</th>\n",
              "      <th>low</th>\n",
              "      <th>high</th>\n",
              "      <th>close</th>\n",
              "      <th>volume</th>\n",
              "    </tr>\n",
              "    <tr>\n",
              "      <th>timestamp</th>\n",
              "      <th></th>\n",
              "      <th></th>\n",
              "      <th></th>\n",
              "      <th></th>\n",
              "      <th></th>\n",
              "    </tr>\n",
              "  </thead>\n",
              "  <tbody>\n",
              "    <tr>\n",
              "      <th>2001-04-16</th>\n",
              "      <td>524</td>\n",
              "      <td>524</td>\n",
              "      <td>547</td>\n",
              "      <td>547</td>\n",
              "      <td>342131</td>\n",
              "    </tr>\n",
              "    <tr>\n",
              "      <th>2001-04-17</th>\n",
              "      <td>547</td>\n",
              "      <td>524</td>\n",
              "      <td>571</td>\n",
              "      <td>524</td>\n",
              "      <td>345804</td>\n",
              "    </tr>\n",
              "    <tr>\n",
              "      <th>2001-04-18</th>\n",
              "      <td>547</td>\n",
              "      <td>524</td>\n",
              "      <td>547</td>\n",
              "      <td>524</td>\n",
              "      <td>230361</td>\n",
              "    </tr>\n",
              "    <tr>\n",
              "      <th>2001-04-19</th>\n",
              "      <td>524</td>\n",
              "      <td>500</td>\n",
              "      <td>524</td>\n",
              "      <td>500</td>\n",
              "      <td>457574</td>\n",
              "    </tr>\n",
              "    <tr>\n",
              "      <th>2001-04-20</th>\n",
              "      <td>476</td>\n",
              "      <td>452</td>\n",
              "      <td>476</td>\n",
              "      <td>452</td>\n",
              "      <td>228262</td>\n",
              "    </tr>\n",
              "  </tbody>\n",
              "</table>\n",
              "</div>\n",
              "    <div class=\"colab-df-buttons\">\n",
              "\n",
              "  <div class=\"colab-df-container\">\n",
              "    <button class=\"colab-df-convert\" onclick=\"convertToInteractive('df-04fb5de6-4446-401f-ade4-291bb1238b79')\"\n",
              "            title=\"Convert this dataframe to an interactive table.\"\n",
              "            style=\"display:none;\">\n",
              "\n",
              "  <svg xmlns=\"http://www.w3.org/2000/svg\" height=\"24px\" viewBox=\"0 -960 960 960\">\n",
              "    <path d=\"M120-120v-720h720v720H120Zm60-500h600v-160H180v160Zm220 220h160v-160H400v160Zm0 220h160v-160H400v160ZM180-400h160v-160H180v160Zm440 0h160v-160H620v160ZM180-180h160v-160H180v160Zm440 0h160v-160H620v160Z\"/>\n",
              "  </svg>\n",
              "    </button>\n",
              "\n",
              "  <style>\n",
              "    .colab-df-container {\n",
              "      display:flex;\n",
              "      gap: 12px;\n",
              "    }\n",
              "\n",
              "    .colab-df-convert {\n",
              "      background-color: #E8F0FE;\n",
              "      border: none;\n",
              "      border-radius: 50%;\n",
              "      cursor: pointer;\n",
              "      display: none;\n",
              "      fill: #1967D2;\n",
              "      height: 32px;\n",
              "      padding: 0 0 0 0;\n",
              "      width: 32px;\n",
              "    }\n",
              "\n",
              "    .colab-df-convert:hover {\n",
              "      background-color: #E2EBFA;\n",
              "      box-shadow: 0px 1px 2px rgba(60, 64, 67, 0.3), 0px 1px 3px 1px rgba(60, 64, 67, 0.15);\n",
              "      fill: #174EA6;\n",
              "    }\n",
              "\n",
              "    .colab-df-buttons div {\n",
              "      margin-bottom: 4px;\n",
              "    }\n",
              "\n",
              "    [theme=dark] .colab-df-convert {\n",
              "      background-color: #3B4455;\n",
              "      fill: #D2E3FC;\n",
              "    }\n",
              "\n",
              "    [theme=dark] .colab-df-convert:hover {\n",
              "      background-color: #434B5C;\n",
              "      box-shadow: 0px 1px 3px 1px rgba(0, 0, 0, 0.15);\n",
              "      filter: drop-shadow(0px 1px 2px rgba(0, 0, 0, 0.3));\n",
              "      fill: #FFFFFF;\n",
              "    }\n",
              "  </style>\n",
              "\n",
              "    <script>\n",
              "      const buttonEl =\n",
              "        document.querySelector('#df-04fb5de6-4446-401f-ade4-291bb1238b79 button.colab-df-convert');\n",
              "      buttonEl.style.display =\n",
              "        google.colab.kernel.accessAllowed ? 'block' : 'none';\n",
              "\n",
              "      async function convertToInteractive(key) {\n",
              "        const element = document.querySelector('#df-04fb5de6-4446-401f-ade4-291bb1238b79');\n",
              "        const dataTable =\n",
              "          await google.colab.kernel.invokeFunction('convertToInteractive',\n",
              "                                                    [key], {});\n",
              "        if (!dataTable) return;\n",
              "\n",
              "        const docLinkHtml = 'Like what you see? Visit the ' +\n",
              "          '<a target=\"_blank\" href=https://colab.research.google.com/notebooks/data_table.ipynb>data table notebook</a>'\n",
              "          + ' to learn more about interactive tables.';\n",
              "        element.innerHTML = '';\n",
              "        dataTable['output_type'] = 'display_data';\n",
              "        await google.colab.output.renderOutput(dataTable, element);\n",
              "        const docLink = document.createElement('div');\n",
              "        docLink.innerHTML = docLinkHtml;\n",
              "        element.appendChild(docLink);\n",
              "      }\n",
              "    </script>\n",
              "  </div>\n",
              "\n",
              "\n",
              "<div id=\"df-7132cb42-66d8-46e0-ad77-b2b9f0c5a167\">\n",
              "  <button class=\"colab-df-quickchart\" onclick=\"quickchart('df-7132cb42-66d8-46e0-ad77-b2b9f0c5a167')\"\n",
              "            title=\"Suggest charts\"\n",
              "            style=\"display:none;\">\n",
              "\n",
              "<svg xmlns=\"http://www.w3.org/2000/svg\" height=\"24px\"viewBox=\"0 0 24 24\"\n",
              "     width=\"24px\">\n",
              "    <g>\n",
              "        <path d=\"M19 3H5c-1.1 0-2 .9-2 2v14c0 1.1.9 2 2 2h14c1.1 0 2-.9 2-2V5c0-1.1-.9-2-2-2zM9 17H7v-7h2v7zm4 0h-2V7h2v10zm4 0h-2v-4h2v4z\"/>\n",
              "    </g>\n",
              "</svg>\n",
              "  </button>\n",
              "\n",
              "<style>\n",
              "  .colab-df-quickchart {\n",
              "      --bg-color: #E8F0FE;\n",
              "      --fill-color: #1967D2;\n",
              "      --hover-bg-color: #E2EBFA;\n",
              "      --hover-fill-color: #174EA6;\n",
              "      --disabled-fill-color: #AAA;\n",
              "      --disabled-bg-color: #DDD;\n",
              "  }\n",
              "\n",
              "  [theme=dark] .colab-df-quickchart {\n",
              "      --bg-color: #3B4455;\n",
              "      --fill-color: #D2E3FC;\n",
              "      --hover-bg-color: #434B5C;\n",
              "      --hover-fill-color: #FFFFFF;\n",
              "      --disabled-bg-color: #3B4455;\n",
              "      --disabled-fill-color: #666;\n",
              "  }\n",
              "\n",
              "  .colab-df-quickchart {\n",
              "    background-color: var(--bg-color);\n",
              "    border: none;\n",
              "    border-radius: 50%;\n",
              "    cursor: pointer;\n",
              "    display: none;\n",
              "    fill: var(--fill-color);\n",
              "    height: 32px;\n",
              "    padding: 0;\n",
              "    width: 32px;\n",
              "  }\n",
              "\n",
              "  .colab-df-quickchart:hover {\n",
              "    background-color: var(--hover-bg-color);\n",
              "    box-shadow: 0 1px 2px rgba(60, 64, 67, 0.3), 0 1px 3px 1px rgba(60, 64, 67, 0.15);\n",
              "    fill: var(--button-hover-fill-color);\n",
              "  }\n",
              "\n",
              "  .colab-df-quickchart-complete:disabled,\n",
              "  .colab-df-quickchart-complete:disabled:hover {\n",
              "    background-color: var(--disabled-bg-color);\n",
              "    fill: var(--disabled-fill-color);\n",
              "    box-shadow: none;\n",
              "  }\n",
              "\n",
              "  .colab-df-spinner {\n",
              "    border: 2px solid var(--fill-color);\n",
              "    border-color: transparent;\n",
              "    border-bottom-color: var(--fill-color);\n",
              "    animation:\n",
              "      spin 1s steps(1) infinite;\n",
              "  }\n",
              "\n",
              "  @keyframes spin {\n",
              "    0% {\n",
              "      border-color: transparent;\n",
              "      border-bottom-color: var(--fill-color);\n",
              "      border-left-color: var(--fill-color);\n",
              "    }\n",
              "    20% {\n",
              "      border-color: transparent;\n",
              "      border-left-color: var(--fill-color);\n",
              "      border-top-color: var(--fill-color);\n",
              "    }\n",
              "    30% {\n",
              "      border-color: transparent;\n",
              "      border-left-color: var(--fill-color);\n",
              "      border-top-color: var(--fill-color);\n",
              "      border-right-color: var(--fill-color);\n",
              "    }\n",
              "    40% {\n",
              "      border-color: transparent;\n",
              "      border-right-color: var(--fill-color);\n",
              "      border-top-color: var(--fill-color);\n",
              "    }\n",
              "    60% {\n",
              "      border-color: transparent;\n",
              "      border-right-color: var(--fill-color);\n",
              "    }\n",
              "    80% {\n",
              "      border-color: transparent;\n",
              "      border-right-color: var(--fill-color);\n",
              "      border-bottom-color: var(--fill-color);\n",
              "    }\n",
              "    90% {\n",
              "      border-color: transparent;\n",
              "      border-bottom-color: var(--fill-color);\n",
              "    }\n",
              "  }\n",
              "</style>\n",
              "\n",
              "  <script>\n",
              "    async function quickchart(key) {\n",
              "      const quickchartButtonEl =\n",
              "        document.querySelector('#' + key + ' button');\n",
              "      quickchartButtonEl.disabled = true;  // To prevent multiple clicks.\n",
              "      quickchartButtonEl.classList.add('colab-df-spinner');\n",
              "      try {\n",
              "        const charts = await google.colab.kernel.invokeFunction(\n",
              "            'suggestCharts', [key], {});\n",
              "      } catch (error) {\n",
              "        console.error('Error during call to suggestCharts:', error);\n",
              "      }\n",
              "      quickchartButtonEl.classList.remove('colab-df-spinner');\n",
              "      quickchartButtonEl.classList.add('colab-df-quickchart-complete');\n",
              "    }\n",
              "    (() => {\n",
              "      let quickchartButtonEl =\n",
              "        document.querySelector('#df-7132cb42-66d8-46e0-ad77-b2b9f0c5a167 button');\n",
              "      quickchartButtonEl.style.display =\n",
              "        google.colab.kernel.accessAllowed ? 'block' : 'none';\n",
              "    })();\n",
              "  </script>\n",
              "</div>\n",
              "\n",
              "    </div>\n",
              "  </div>\n"
            ],
            "text/plain": [
              "            open  low  high  close  volume\n",
              "timestamp                                 \n",
              "2001-04-16   524  524   547    547  342131\n",
              "2001-04-17   547  524   571    524  345804\n",
              "2001-04-18   547  524   547    524  230361\n",
              "2001-04-19   524  500   524    500  457574\n",
              "2001-04-20   476  452   476    452  228262"
            ]
          },
          "execution_count": 9,
          "metadata": {},
          "output_type": "execute_result"
        }
      ],
      "source": [
        "# Kode berikut berfokus pada persiapan data untuk digunakan dalam Artificial Neural Network (ANN). Berikut penjelasannya:\n",
        "data_rnn = pd.read_csv(\"https://raw.githubusercontent.com/t0ccata/final-project-ml/main/archive/daily/AALI.csv\")\n",
        "# Kode ini memuat data dari file CSV yang berada di URL yang diberikan. Data ini berisi informasi\n",
        "# tentang saham AALI, yang termasuk harga pembukaan, harga penutupan, volume perdagangan, dan lain\n",
        "# sebagainya. Data ini disimpan dalam variabel data_rnn.\n",
        "data_rnn['timestamp'] = pd.to_datetime(data_rnn['timestamp'])\n",
        "# Kode ini mengubah kolom timestamp dalam DataFrame menjadi objek datetime menggunakan fungsi pd.to_datetime().\n",
        "# Ini memungkinkan Anda untuk bekerja dengan data tanggal dan waktu dengan lebih mudah.\n",
        "data_rnn.set_index('timestamp', inplace=True) # Kode ini menetapkan kolom timestamp sebagai indeks DataFrame.\n",
        "                                              # Ini memudahkan Anda untuk mengakses data berdasarkan tanggal dan waktu.\n",
        "data_rnn.head() # Kode ini mencetak lima baris pertama dari DataFrame data_rnn."
      ]
    },
    {
      "cell_type": "code",
      "execution_count": null,
      "metadata": {
        "colab": {
          "base_uri": "https://localhost:8080/"
        },
        "id": "P1769V5cEvdI",
        "outputId": "f91cf421-ee7f-4830-dc0d-ce2fb031b2f3"
      },
      "outputs": [
        {
          "data": {
            "text/plain": [
              "open      0\n",
              "low       0\n",
              "high      0\n",
              "close     0\n",
              "volume    0\n",
              "dtype: int64"
            ]
          },
          "execution_count": 10,
          "metadata": {},
          "output_type": "execute_result"
        }
      ],
      "source": [
        "data_rnn.isna().sum()\n",
        "# Kode di atas digunakan untuk memeriksa keberadaan data yang hilang (missing data) dalam DataFrame data_rnn. Berikut penjelasannya:\n",
        "# 1. data_rnn.isna(): Bagian ini menggunakan metode isna() dari DataFrame data_rnn untuk menghasilkan DataFrame baru yang berisi nilai boolean (True/False).\n",
        "# Nilai True menunjukkan bahwa sel tersebut berisi data yang hilang (missing data), sedangkan nilai False menunjukkan bahwa sel tersebut berisi data yang valid.\n",
        "# 2.sum(): Metode sum() digunakan untuk menghitung jumlah nilai True di setiap kolom DataFrame yang dihasilkan dari langkah sebelumnya. Ini akan memberi Anda jumlah data yang hilang di setiap kolom."
      ]
    },
    {
      "cell_type": "code",
      "execution_count": null,
      "metadata": {
        "id": "O5hhheagH0NK"
      },
      "outputs": [],
      "source": [
        "# Kode berikut melakukan proses penskalaan (scaling) pada data DataFrame data_rnn menggunakan MinMaxScaler dari scikit-learn. Berikut penjelasannya:\n",
        "scaler = MinMaxScaler() # Kode ini menginisialisasi objek MinMaxScaler dari scikit-learn.\n",
        "                        # MinMaxScaler adalah metode penskalaan yang mengubah data numerik ke dalam rentang tertentu (biasanya antara 0 dan 1).\n",
        "data_rnn_scaled = scaler.fit_transform(data_rnn)\n",
        "# Metode fit_transform pertama-tama menyesuaikan (fit) MinMaxScaler ke data data_rnn. Ini berarti bahwa MinMaxScaler akan mempelajari rentang\n",
        "# minimum dan maksimum dari setiap kolom dalam data_rnn. Kemudian, fit_transform langsung menerapkan transformasi penskalaan ke data data_rnn\n",
        "# dan mengembalikan DataFrame baru yang telah diskalakan, yang disimpan dalam variabel data_rnn_scaled."
      ]
    },
    {
      "cell_type": "code",
      "execution_count": null,
      "metadata": {
        "id": "SfgjXEcuK8jF"
      },
      "outputs": [],
      "source": [
        "def create_sequences(data, seq_length):\n",
        "\n",
        "    # Inisialisasi list untuk menyimpan urutan dan target\n",
        "    sequences, targets = [], []\n",
        "\n",
        "    # Iterasi melalui data untuk membuat urutan\n",
        "    for i in range(len(data) - seq_length):\n",
        "        # Tambahkan urutan data ke dalam list sequences\n",
        "        sequences.append(data[i:i + seq_length])\n",
        "        # Tambahkan nilai target ke dalam list targets\n",
        "        targets.append(data[i + seq_length, 3])\n",
        "\n",
        "    # Ubah list sequences dan targets menjadi array NumPy\n",
        "    return np.array(sequences), np.array(targets)"
      ]
    },
    {
      "cell_type": "code",
      "execution_count": null,
      "metadata": {
        "id": "QXCeKAhPLIyU"
      },
      "outputs": [],
      "source": [
        "seq_length = 60                                                  # Buat urutan data dan target dengan panjang urutan 60\n",
        "X_train, y_train = create_sequences(data_rnn_scaled, seq_length) # Gunakan nama variabel yang sesuai di sini"
      ]
    },
    {
      "cell_type": "code",
      "execution_count": null,
      "metadata": {
        "id": "YLcMhyrhNC7D"
      },
      "outputs": [],
      "source": [
        "seq_length = 60                                                                   # Buat urutan data dan target dengan panjang urutan 60\n",
        "sequences, y_train = create_sequences(data_rnn_scaled, seq_length)                # Gunakan nama variabel yang sesuai 'data_rnn_scaled'\n",
        "sequences = sequences.reshape(sequences.shape[0], seq_length, data_rnn.shape[1])  # Ubah bentuk data urutan untuk model ANN"
      ]
    },
    {
      "cell_type": "code",
      "execution_count": null,
      "metadata": {
        "colab": {
          "base_uri": "https://localhost:8080/"
        },
        "id": "zTGTY6XSP7UE",
        "outputId": "6e0d1093-e606-4f06-d7e3-f6532bc46eae"
      },
      "outputs": [
        {
          "name": "stdout",
          "output_type": "stream",
          "text": [
            "Requirement already satisfied: keras in /usr/local/lib/python3.10/dist-packages (2.15.0)\n"
          ]
        },
        {
          "name": "stderr",
          "output_type": "stream",
          "text": [
            "WARNING:absl:`lr` is deprecated in Keras optimizer, please use `learning_rate` or use the legacy optimizer, e.g.,tf.keras.optimizers.legacy.Adam.\n"
          ]
        },
        {
          "data": {
            "text/plain": [
              "<keras.src.callbacks.History at 0x7bbe269ebac0>"
            ]
          },
          "execution_count": 15,
          "metadata": {},
          "output_type": "execute_result"
        }
      ],
      "source": [
        "!pip install keras\n",
        "from keras.models import Sequential\n",
        "from keras.layers import LSTM, Dense\n",
        "from keras.optimizers import Adam\n",
        "\n",
        "# Buat model ANN\n",
        "model = Sequential()\n",
        "\n",
        "# Tambahkan layer LSTM untuk menangani data deret waktu\n",
        "model.add(LSTM(64, input_shape=(X_train.shape[1], X_train.shape[2]), activation='relu'))\n",
        "model.add(Dense(32, activation='relu'))\n",
        "model.add(Dense(1, activation='linear'))\n",
        "\n",
        "# Kompilasi model dengan optimizer Adam dan loss function mean squared error\n",
        "model.compile(optimizer=Adam(lr=0.001), loss='mean_squared_error')\n",
        "\n",
        "# Latih model dengan data training\n",
        "model.fit(X_train, y_train, epochs=100, batch_size=32, verbose=0)"
      ]
    },
    {
      "cell_type": "code",
      "source": [
        "# Assuming 'data_rnn_scaled' contains both training and test data\n",
        "# Adjust the split index based on your data\n",
        "split_index = int(len(data_rnn_scaled) * 0.8)  # Example 80/20 split\n",
        "\n",
        "# Training data\n",
        "data_train = data_rnn_scaled[:split_index]\n",
        "X_train, y_train = create_sequences(data_train, seq_length)\n",
        "X_train = X_train.reshape(X_train.shape[0], seq_length, data_rnn_scaled.shape[1])\n",
        "\n",
        "# Test data\n",
        "data_test = data_rnn_scaled[split_index:]\n",
        "X_test, y_test = create_sequences(data_test, seq_length)\n",
        "X_test = X_test.reshape(X_test.shape[0], seq_length, data_rnn_scaled.shape[1])"
      ],
      "metadata": {
        "id": "4pRCVtx_tVkj"
      },
      "execution_count": null,
      "outputs": []
    },
    {
      "cell_type": "code",
      "source": [
        "# Reshape 'test_predictions' to be two-dimensional\n",
        "test_predictions = test_predictions.reshape(-1, 1)\n",
        "\n",
        "# Combine train and test predictions and actual values\n",
        "combined_train_test_predictions = np.concatenate((train_predictions, test_predictions), axis=0)\n",
        "combined_train_test_actual = np.concatenate((y_train, y_test), axis=0)"
      ],
      "metadata": {
        "id": "00QcrRSVtcKn"
      },
      "execution_count": null,
      "outputs": []
    },
    {
      "cell_type": "code",
      "source": [
        "# Evaluate the model on normalized data\n",
        "# Assuming 'y' should be your target variable for the normalized data\n",
        "# Replace 'y' with the actual variable name containing your target values\n",
        "mse_normalized = mean_squared_error(y_test, model.predict(X_test).reshape(-1))  # Example: using y_test if it's your test target\n",
        "mape_normalized = mean_absolute_percentage_error(y_test, model.predict(X_test).reshape(-1))\n",
        "r2_normalized = r2_score(y_test, model.predict(X_test).reshape(-1))\n",
        "\n",
        "# Calculate metrics for training data\n",
        "train_predictions = model.predict(X_train).reshape(-1)\n",
        "train_mse = mean_squared_error(y_train, train_predictions)\n",
        "train_rmse = np.sqrt(train_mse)\n",
        "train_mape = mean_absolute_percentage_error(y_train, train_predictions)\n",
        "train_r2 = r2_score(y_train, train_predictions)\n",
        "\n",
        "# Calculate metrics for test data  <--- Added this section\n",
        "test_predictions = model.predict(X_test).reshape(-1)\n",
        "test_mse = mean_squared_error(y_test, test_predictions)\n",
        "test_rmse = np.sqrt(test_mse)\n",
        "test_mape = mean_absolute_percentage_error(y_test, test_predictions)\n",
        "test_r2 = r2_score(y_test, test_predictions)\n",
        "\n",
        "# Calculate overall metrics <--- Added this section\n",
        "overall_predictions = np.concatenate((train_predictions, test_predictions), axis=0)\n",
        "overall_actual = np.concatenate((y_train, y_test), axis=0)\n",
        "overall_mse = mean_squared_error(overall_actual, overall_predictions)\n",
        "overall_rmse = np.sqrt(overall_mse)\n",
        "overall_mape = mean_absolute_percentage_error(overall_actual, overall_predictions)\n",
        "overall_r2 = r2_score(overall_actual, overall_predictions)\n",
        "\n",
        "print(f'Train MSE: {train_mse:.4f}')\n",
        "print(f'Train RMSE: {train_rmse:.4f}')\n",
        "print(f'Train MAPE: {train_mape:.4f}')\n",
        "print(f'Train R-squared: {train_r2:.4f}')\n",
        "print()\n",
        "print(f'Test MSE: {test_mse:.4f}') # Now test_mse is defined\n",
        "print(f'Test RMSE: {test_rmse:.4f}')\n",
        "print(f'Test MAPE: {test_mape:.4f}')\n",
        "print(f'Test R-squared: {test_r2:.4f}')\n",
        "print()\n",
        "print(f'Overall MSE: {overall_mse:.4f}') # Now overall metrics are defined\n",
        "print(f'Overall RMSE: {overall_rmse:.4f}')\n",
        "print(f'Overall MAPE: {overall_mape:.4f}')\n",
        "print(f'Overall R-squared: {overall_r2:.4f}')\n",
        "print()\n",
        "print(f'Normalized Data Metrics:')\n",
        "print(f'MSE: {mse_normalized:.4f}')\n",
        "print(f'MAPE: {mape_normalized:.4f}')\n",
        "print(f'R2 Score: {r2_normalized:.4f}')"
      ],
      "metadata": {
        "colab": {
          "base_uri": "https://localhost:8080/"
        },
        "id": "Z0wZpOHottxW",
        "outputId": "041869b8-9db5-4d70-af26-bba5214a9995"
      },
      "execution_count": null,
      "outputs": [
        {
          "output_type": "stream",
          "name": "stdout",
          "text": [
            "34/34 [==============================] - 1s 16ms/step\n",
            "34/34 [==============================] - 1s 19ms/step\n",
            "34/34 [==============================] - 1s 27ms/step\n",
            "140/140 [==============================] - 2s 14ms/step\n",
            "34/34 [==============================] - 0s 10ms/step\n",
            "Train MSE: 0.2179\n",
            "Train RMSE: 0.4668\n",
            "Train MAPE: 0.8753\n",
            "Train R-squared: -2.2770\n",
            "\n",
            "Test MSE: 0.0835\n",
            "Test RMSE: 0.2889\n",
            "Test MAPE: 0.9196\n",
            "Test R-squared: -23.9822\n",
            "\n",
            "Overall MSE: 0.1919\n",
            "Overall RMSE: 0.4380\n",
            "Overall MAPE: 0.8839\n",
            "Overall R-squared: -2.4260\n",
            "\n",
            "Normalized Data Metrics:\n",
            "MSE: 0.0835\n",
            "MAPE: 0.9196\n",
            "R2 Score: -23.9822\n"
          ]
        }
      ]
    },
    {
      "cell_type": "code",
      "source": [
        "# Membuat prediksi\n",
        "train_predictions = model.predict(X_train)\n",
        "test_predictions = model.predict(X_test)\n",
        "\n",
        "# Mengembalikan prediksi ke skala asli\n",
        "train_predictions_scaled = np.zeros((train_predictions.shape[0], 5))\n",
        "train_predictions_scaled[:, 3] = train_predictions.flatten()\n",
        "train_predictions = scaler.inverse_transform(train_predictions_scaled)[:, 3]"
      ],
      "metadata": {
        "colab": {
          "base_uri": "https://localhost:8080/"
        },
        "id": "AXb2GJjMty9P",
        "outputId": "1e713f6c-2a4e-4af6-92ed-c8decd4191a2"
      },
      "execution_count": null,
      "outputs": [
        {
          "output_type": "stream",
          "name": "stdout",
          "text": [
            "140/140 [==============================] - 2s 16ms/step\n",
            "34/34 [==============================] - 0s 14ms/step\n"
          ]
        }
      ]
    },
    {
      "cell_type": "code",
      "source": [
        "test_predictions_scaled = np.zeros((test_predictions.shape[0], 5))\n",
        "test_predictions_scaled[:, 3] = test_predictions.flatten()\n",
        "test_predictions = scaler.inverse_transform(test_predictions_scaled)[:, 3]"
      ],
      "metadata": {
        "id": "m_TikXLlt21I"
      },
      "execution_count": null,
      "outputs": []
    },
    {
      "cell_type": "code",
      "source": [
        "# Menghitung metrik pada data yang sudah dinormalisasi\n",
        "y_train_scaled = np.zeros((y_train.shape[0], 5))\n",
        "y_train_scaled[:, 3] = y_train\n",
        "y_train_actual = scaler.inverse_transform(y_train_scaled)[:, 3]"
      ],
      "metadata": {
        "id": "Xq_ItSFUt5fs"
      },
      "execution_count": null,
      "outputs": []
    },
    {
      "cell_type": "code",
      "source": [
        "y_test_scaled = np.zeros((y_test.shape[0], 5))\n",
        "y_test_scaled[:, 3] = y_test\n",
        "y_test_actual = scaler.inverse_transform(y_test_scaled)[:, 3]"
      ],
      "metadata": {
        "id": "Qf4bUtxruBI8"
      },
      "execution_count": null,
      "outputs": []
    },
    {
      "cell_type": "code",
      "source": [
        "# Memplot hasil prediksi\n",
        "plt.figure(figsize=(14, 7))\n",
        "plt.plot(data_rnn.index[seq_length:seq_length + len(y_train_actual)], y_train_actual, label='True Values (Train)')\n",
        "plt.plot(data_rnn.index[seq_length:seq_length + len(train_predictions)], train_predictions, label='Train Predictions', alpha=0.7)\n",
        "plt.plot(data_rnn.index[seq_length + len(train_predictions):seq_length + len(train_predictions) + len(test_predictions)], test_predictions, label='Test Predictions', alpha=0.7)\n",
        "plt.legend()\n",
        "plt.title('Actual vs Predicted Stock Prices (Normalized)')\n",
        "plt.show()"
      ],
      "metadata": {
        "colab": {
          "base_uri": "https://localhost:8080/",
          "height": 622
        },
        "id": "1f5ViA9luHSZ",
        "outputId": "b3ce9052-2d70-461d-a40e-2bde17bcc02f"
      },
      "execution_count": null,
      "outputs": [
        {
          "output_type": "display_data",
          "data": {
            "text/plain": [
              "<Figure size 1400x700 with 1 Axes>"
            ],
            "image/png": "[encoded data removed]"
          },
          "metadata": {}
        }
      ]
    }
  ],
  "metadata": {
    "colab": {
      "provenance": []
    },
    "kernelspec": {
      "display_name": "Python 3",
      "name": "python3"
    },
    "language_info": {
      "name": "python"
    }
  },
  "nbformat": 4,
  "nbformat_minor": 0
}