{
  "nbformat": 4,
  "nbformat_minor": 0,
  "metadata": {
    "colab": {
      "provenance": []
    },
    "kernelspec": {
      "name": "python3",
      "display_name": "Python 3"
    },
    "language_info": {
      "name": "python"
    }
  },
  "cells": [
    {
      "cell_type": "code",
      "source": [
        "import numpy as np\n",
        "import pandas as pd\n",
        "import matplotlib.pyplot as plt\n",
        "from sklearn.metrics import mean_squared_error, mean_absolute_percentage_error, r2_score\n",
        "from tensorflow.keras.models import Sequential\n",
        "from tensorflow.keras.layers import SimpleRNN, Dense, Dropout"
      ],
      "metadata": {
        "id": "cJeSfj0g_PJ6"
      },
      "execution_count": 1,
      "outputs": []
    },
    {
      "cell_type": "code",
      "source": [
        "data_rnn = pd.read_csv(\"https://raw.githubusercontent.com/t0ccata/final-project-ml/main/archive/daily/AALI.csv\")\n",
        "data_rnn['timestamp'] = pd.to_datetime(data_rnn['timestamp'])\n",
        "data_rnn.set_index('timestamp', inplace=True)\n",
        "data_rnn.head()"
      ],
      "metadata": {
        "colab": {
          "base_uri": "https://localhost:8080/",
          "height": 237
        },
        "id": "S1LvX505_WL5",
        "outputId": "bec9f450-08e9-4591-d429-6dc99a347eab"
      },
      "execution_count": 2,
      "outputs": [
        {
          "output_type": "execute_result",
          "data": {
            "text/plain": [
              "            open  low  high  close  volume\n",
              "timestamp                                 \n",
              "2001-04-16   524  524   547    547  342131\n",
              "2001-04-17   547  524   571    524  345804\n",
              "2001-04-18   547  524   547    524  230361\n",
              "2001-04-19   524  500   524    500  457574\n",
              "2001-04-20   476  452   476    452  228262"
            ],
            "text/html": [
              "\n",
              "  <div id=\"df-ff6ad082-5896-4c8d-898f-5b3849757c8e\" class=\"colab-df-container\">\n",
              "    <div>\n",
              "<style scoped>\n",
              "    .dataframe tbody tr th:only-of-type {\n",
              "        vertical-align: middle;\n",
              "    }\n",
              "\n",
              "    .dataframe tbody tr th {\n",
              "        vertical-align: top;\n",
              "    }\n",
              "\n",
              "    .dataframe thead th {\n",
              "        text-align: right;\n",
              "    }\n",
              "</style>\n",
              "<table border=\"1\" class=\"dataframe\">\n",
              "  <thead>\n",
              "    <tr style=\"text-align: right;\">\n",
              "      <th></th>\n",
              "      <th>open</th>\n",
              "      <th>low</th>\n",
              "      <th>high</th>\n",
              "      <th>close</th>\n",
              "      <th>volume</th>\n",
              "    </tr>\n",
              "    <tr>\n",
              "      <th>timestamp</th>\n",
              "      <th></th>\n",
              "      <th></th>\n",
              "      <th></th>\n",
              "      <th></th>\n",
              "      <th></th>\n",
              "    </tr>\n",
              "  </thead>\n",
              "  <tbody>\n",
              "    <tr>\n",
              "      <th>2001-04-16</th>\n",
              "      <td>524</td>\n",
              "      <td>524</td>\n",
              "      <td>547</td>\n",
              "      <td>547</td>\n",
              "      <td>342131</td>\n",
              "    </tr>\n",
              "    <tr>\n",
              "      <th>2001-04-17</th>\n",
              "      <td>547</td>\n",
              "      <td>524</td>\n",
              "      <td>571</td>\n",
              "      <td>524</td>\n",
              "      <td>345804</td>\n",
              "    </tr>\n",
              "    <tr>\n",
              "      <th>2001-04-18</th>\n",
              "      <td>547</td>\n",
              "      <td>524</td>\n",
              "      <td>547</td>\n",
              "      <td>524</td>\n",
              "      <td>230361</td>\n",
              "    </tr>\n",
              "    <tr>\n",
              "      <th>2001-04-19</th>\n",
              "      <td>524</td>\n",
              "      <td>500</td>\n",
              "      <td>524</td>\n",
              "      <td>500</td>\n",
              "      <td>457574</td>\n",
              "    </tr>\n",
              "    <tr>\n",
              "      <th>2001-04-20</th>\n",
              "      <td>476</td>\n",
              "      <td>452</td>\n",
              "      <td>476</td>\n",
              "      <td>452</td>\n",
              "      <td>228262</td>\n",
              "    </tr>\n",
              "  </tbody>\n",
              "</table>\n",
              "</div>\n",
              "    <div class=\"colab-df-buttons\">\n",
              "\n",
              "  <div class=\"colab-df-container\">\n",
              "    <button class=\"colab-df-convert\" onclick=\"convertToInteractive('df-ff6ad082-5896-4c8d-898f-5b3849757c8e')\"\n",
              "            title=\"Convert this dataframe to an interactive table.\"\n",
              "            style=\"display:none;\">\n",
              "\n",
              "  <svg xmlns=\"http://www.w3.org/2000/svg\" height=\"24px\" viewBox=\"0 -960 960 960\">\n",
              "    <path d=\"M120-120v-720h720v720H120Zm60-500h600v-160H180v160Zm220 220h160v-160H400v160Zm0 220h160v-160H400v160ZM180-400h160v-160H180v160Zm440 0h160v-160H620v160ZM180-180h160v-160H180v160Zm440 0h160v-160H620v160Z\"/>\n",
              "  </svg>\n",
              "    </button>\n",
              "\n",
              "  <style>\n",
              "    .colab-df-container {\n",
              "      display:flex;\n",
              "      gap: 12px;\n",
              "    }\n",
              "\n",
              "    .colab-df-convert {\n",
              "      background-color: #E8F0FE;\n",
              "      border: none;\n",
              "      border-radius: 50%;\n",
              "      cursor: pointer;\n",
              "      display: none;\n",
              "      fill: #1967D2;\n",
              "      height: 32px;\n",
              "      padding: 0 0 0 0;\n",
              "      width: 32px;\n",
              "    }\n",
              "\n",
              "    .colab-df-convert:hover {\n",
              "      background-color: #E2EBFA;\n",
              "      box-shadow: 0px 1px 2px rgba(60, 64, 67, 0.3), 0px 1px 3px 1px rgba(60, 64, 67, 0.15);\n",
              "      fill: #174EA6;\n",
              "    }\n",
              "\n",
              "    .colab-df-buttons div {\n",
              "      margin-bottom: 4px;\n",
              "    }\n",
              "\n",
              "    [theme=dark] .colab-df-convert {\n",
              "      background-color: #3B4455;\n",
              "      fill: #D2E3FC;\n",
              "    }\n",
              "\n",
              "    [theme=dark] .colab-df-convert:hover {\n",
              "      background-color: #434B5C;\n",
              "      box-shadow: 0px 1px 3px 1px rgba(0, 0, 0, 0.15);\n",
              "      filter: drop-shadow(0px 1px 2px rgba(0, 0, 0, 0.3));\n",
              "      fill: #FFFFFF;\n",
              "    }\n",
              "  </style>\n",
              "\n",
              "    <script>\n",
              "      const buttonEl =\n",
              "        document.querySelector('#df-ff6ad082-5896-4c8d-898f-5b3849757c8e button.colab-df-convert');\n",
              "      buttonEl.style.display =\n",
              "        google.colab.kernel.accessAllowed ? 'block' : 'none';\n",
              "\n",
              "      async function convertToInteractive(key) {\n",
              "        const element = document.querySelector('#df-ff6ad082-5896-4c8d-898f-5b3849757c8e');\n",
              "        const dataTable =\n",
              "          await google.colab.kernel.invokeFunction('convertToInteractive',\n",
              "                                                    [key], {});\n",
              "        if (!dataTable) return;\n",
              "\n",
              "        const docLinkHtml = 'Like what you see? Visit the ' +\n",
              "          '<a target=\"_blank\" href=https://colab.research.google.com/notebooks/data_table.ipynb>data table notebook</a>'\n",
              "          + ' to learn more about interactive tables.';\n",
              "        element.innerHTML = '';\n",
              "        dataTable['output_type'] = 'display_data';\n",
              "        await google.colab.output.renderOutput(dataTable, element);\n",
              "        const docLink = document.createElement('div');\n",
              "        docLink.innerHTML = docLinkHtml;\n",
              "        element.appendChild(docLink);\n",
              "      }\n",
              "    </script>\n",
              "  </div>\n",
              "\n",
              "\n",
              "<div id=\"df-2dbb42db-1399-4730-b989-948ea691c0e9\">\n",
              "  <button class=\"colab-df-quickchart\" onclick=\"quickchart('df-2dbb42db-1399-4730-b989-948ea691c0e9')\"\n",
              "            title=\"Suggest charts\"\n",
              "            style=\"display:none;\">\n",
              "\n",
              "<svg xmlns=\"http://www.w3.org/2000/svg\" height=\"24px\"viewBox=\"0 0 24 24\"\n",
              "     width=\"24px\">\n",
              "    <g>\n",
              "        <path d=\"M19 3H5c-1.1 0-2 .9-2 2v14c0 1.1.9 2 2 2h14c1.1 0 2-.9 2-2V5c0-1.1-.9-2-2-2zM9 17H7v-7h2v7zm4 0h-2V7h2v10zm4 0h-2v-4h2v4z\"/>\n",
              "    </g>\n",
              "</svg>\n",
              "  </button>\n",
              "\n",
              "<style>\n",
              "  .colab-df-quickchart {\n",
              "      --bg-color: #E8F0FE;\n",
              "      --fill-color: #1967D2;\n",
              "      --hover-bg-color: #E2EBFA;\n",
              "      --hover-fill-color: #174EA6;\n",
              "      --disabled-fill-color: #AAA;\n",
              "      --disabled-bg-color: #DDD;\n",
              "  }\n",
              "\n",
              "  [theme=dark] .colab-df-quickchart {\n",
              "      --bg-color: #3B4455;\n",
              "      --fill-color: #D2E3FC;\n",
              "      --hover-bg-color: #434B5C;\n",
              "      --hover-fill-color: #FFFFFF;\n",
              "      --disabled-bg-color: #3B4455;\n",
              "      --disabled-fill-color: #666;\n",
              "  }\n",
              "\n",
              "  .colab-df-quickchart {\n",
              "    background-color: var(--bg-color);\n",
              "    border: none;\n",
              "    border-radius: 50%;\n",
              "    cursor: pointer;\n",
              "    display: none;\n",
              "    fill: var(--fill-color);\n",
              "    height: 32px;\n",
              "    padding: 0;\n",
              "    width: 32px;\n",
              "  }\n",
              "\n",
              "  .colab-df-quickchart:hover {\n",
              "    background-color: var(--hover-bg-color);\n",
              "    box-shadow: 0 1px 2px rgba(60, 64, 67, 0.3), 0 1px 3px 1px rgba(60, 64, 67, 0.15);\n",
              "    fill: var(--button-hover-fill-color);\n",
              "  }\n",
              "\n",
              "  .colab-df-quickchart-complete:disabled,\n",
              "  .colab-df-quickchart-complete:disabled:hover {\n",
              "    background-color: var(--disabled-bg-color);\n",
              "    fill: var(--disabled-fill-color);\n",
              "    box-shadow: none;\n",
              "  }\n",
              "\n",
              "  .colab-df-spinner {\n",
              "    border: 2px solid var(--fill-color);\n",
              "    border-color: transparent;\n",
              "    border-bottom-color: var(--fill-color);\n",
              "    animation:\n",
              "      spin 1s steps(1) infinite;\n",
              "  }\n",
              "\n",
              "  @keyframes spin {\n",
              "    0% {\n",
              "      border-color: transparent;\n",
              "      border-bottom-color: var(--fill-color);\n",
              "      border-left-color: var(--fill-color);\n",
              "    }\n",
              "    20% {\n",
              "      border-color: transparent;\n",
              "      border-left-color: var(--fill-color);\n",
              "      border-top-color: var(--fill-color);\n",
              "    }\n",
              "    30% {\n",
              "      border-color: transparent;\n",
              "      border-left-color: var(--fill-color);\n",
              "      border-top-color: var(--fill-color);\n",
              "      border-right-color: var(--fill-color);\n",
              "    }\n",
              "    40% {\n",
              "      border-color: transparent;\n",
              "      border-right-color: var(--fill-color);\n",
              "      border-top-color: var(--fill-color);\n",
              "    }\n",
              "    60% {\n",
              "      border-color: transparent;\n",
              "      border-right-color: var(--fill-color);\n",
              "    }\n",
              "    80% {\n",
              "      border-color: transparent;\n",
              "      border-right-color: var(--fill-color);\n",
              "      border-bottom-color: var(--fill-color);\n",
              "    }\n",
              "    90% {\n",
              "      border-color: transparent;\n",
              "      border-bottom-color: var(--fill-color);\n",
              "    }\n",
              "  }\n",
              "</style>\n",
              "\n",
              "  <script>\n",
              "    async function quickchart(key) {\n",
              "      const quickchartButtonEl =\n",
              "        document.querySelector('#' + key + ' button');\n",
              "      quickchartButtonEl.disabled = true;  // To prevent multiple clicks.\n",
              "      quickchartButtonEl.classList.add('colab-df-spinner');\n",
              "      try {\n",
              "        const charts = await google.colab.kernel.invokeFunction(\n",
              "            'suggestCharts', [key], {});\n",
              "      } catch (error) {\n",
              "        console.error('Error during call to suggestCharts:', error);\n",
              "      }\n",
              "      quickchartButtonEl.classList.remove('colab-df-spinner');\n",
              "      quickchartButtonEl.classList.add('colab-df-quickchart-complete');\n",
              "    }\n",
              "    (() => {\n",
              "      let quickchartButtonEl =\n",
              "        document.querySelector('#df-2dbb42db-1399-4730-b989-948ea691c0e9 button');\n",
              "      quickchartButtonEl.style.display =\n",
              "        google.colab.kernel.accessAllowed ? 'block' : 'none';\n",
              "    })();\n",
              "  </script>\n",
              "</div>\n",
              "\n",
              "    </div>\n",
              "  </div>\n"
            ],
            "application/vnd.google.colaboratory.intrinsic+json": {
              "type": "dataframe",
              "variable_name": "data_rnn",
              "summary": "{\n  \"name\": \"data_rnn\",\n  \"rows\": 5670,\n  \"fields\": [\n    {\n      \"column\": \"timestamp\",\n      \"properties\": {\n        \"dtype\": \"date\",\n        \"min\": \"2001-04-16 00:00:00\",\n        \"max\": \"2023-01-06 00:00:00\",\n        \"num_unique_values\": 5670,\n        \"samples\": [\n          \"2014-10-24 00:00:00\",\n          \"2016-06-29 00:00:00\",\n          \"2008-05-30 00:00:00\"\n        ],\n        \"semantic_type\": \"\",\n        \"description\": \"\"\n      }\n    },\n    {\n      \"column\": \"open\",\n      \"properties\": {\n        \"dtype\": \"number\",\n        \"std\": 7583,\n        \"min\": 452,\n        \"max\": 32587,\n        \"num_unique_values\": 1104,\n        \"samples\": [\n          14816,\n          9475,\n          29728\n        ],\n        \"semantic_type\": \"\",\n        \"description\": \"\"\n      }\n    },\n    {\n      \"column\": \"low\",\n      \"properties\": {\n        \"dtype\": \"number\",\n        \"std\": 7479,\n        \"min\": 452,\n        \"max\": 31634,\n        \"num_unique_values\": 1156,\n        \"samples\": [\n          11325,\n          13196,\n          2834\n        ],\n        \"semantic_type\": \"\",\n        \"description\": \"\"\n      }\n    },\n    {\n      \"column\": \"high\",\n      \"properties\": {\n        \"dtype\": \"number\",\n        \"std\": 7698,\n        \"min\": 452,\n        \"max\": 33635,\n        \"num_unique_values\": 1177,\n        \"samples\": [\n          2858,\n          14745,\n          2096\n        ],\n        \"semantic_type\": \"\",\n        \"description\": \"\"\n      }\n    },\n    {\n      \"column\": \"close\",\n      \"properties\": {\n        \"dtype\": \"number\",\n        \"std\": 7586,\n        \"min\": 452,\n        \"max\": 32396,\n        \"num_unique_values\": 1160,\n        \"samples\": [\n          23892,\n          9450,\n          8146\n        ],\n        \"semantic_type\": \"\",\n        \"description\": \"\"\n      }\n    },\n    {\n      \"column\": \"volume\",\n      \"properties\": {\n        \"dtype\": \"number\",\n        \"std\": 4282092,\n        \"min\": 0,\n        \"max\": 133371321,\n        \"num_unique_values\": 4649,\n        \"samples\": [\n          1041900,\n          1609380,\n          2149863\n        ],\n        \"semantic_type\": \"\",\n        \"description\": \"\"\n      }\n    }\n  ]\n}"
            }
          },
          "metadata": {},
          "execution_count": 2
        }
      ]
    },
    {
      "cell_type": "code",
      "source": [
        "data_rnn.isna().sum()"
      ],
      "metadata": {
        "colab": {
          "base_uri": "https://localhost:8080/"
        },
        "id": "yPaD8uST_d9D",
        "outputId": "0520e5d6-d230-4403-cb4b-17aedb46085b"
      },
      "execution_count": 3,
      "outputs": [
        {
          "output_type": "execute_result",
          "data": {
            "text/plain": [
              "open      0\n",
              "low       0\n",
              "high      0\n",
              "close     0\n",
              "volume    0\n",
              "dtype: int64"
            ]
          },
          "metadata": {},
          "execution_count": 3
        }
      ]
    },
    {
      "cell_type": "code",
      "source": [
        "def create_sequences(data, seq_length):\n",
        "    sequences, targets = [], []\n",
        "    for i in range(len(data) - seq_length):\n",
        "        sequences.append(data.iloc[i:i + seq_length].values)\n",
        "        targets.append(data.iloc[i + seq_length, 3])  # Close price is the target\n",
        "    return np.array(sequences), np.array(targets)\n",
        "\n",
        "seq_length = 60"
      ],
      "metadata": {
        "id": "Ra_cFMUC_ir9"
      },
      "execution_count": 4,
      "outputs": []
    },
    {
      "cell_type": "code",
      "source": [
        "train_size = int(len(data_rnn) * 0.8)\n",
        "data_train, data_test = data_rnn[:train_size], data_rnn[train_size:]"
      ],
      "metadata": {
        "id": "iLyrzrQC_q0T"
      },
      "execution_count": 5,
      "outputs": []
    },
    {
      "cell_type": "code",
      "source": [
        "X_train, y_train = create_sequences(data_train, seq_length)\n",
        "X_test, y_test = create_sequences(data_test, seq_length)"
      ],
      "metadata": {
        "id": "UdyxKY6s_uSm"
      },
      "execution_count": 6,
      "outputs": []
    },
    {
      "cell_type": "code",
      "source": [
        "train_val_split = int(len(X_train) * 0.8)\n",
        "X_train_final, X_val = X_train[:train_val_split], X_train[train_val_split:]\n",
        "y_train_final, y_val = y_train[:train_val_split], y_train[train_val_split:]"
      ],
      "metadata": {
        "id": "gnX5psG5_xXN"
      },
      "execution_count": 7,
      "outputs": []
    },
    {
      "cell_type": "code",
      "source": [
        "model = Sequential()\n",
        "model.add(SimpleRNN(50, input_shape=(seq_length, X_train.shape[2]), return_sequences=True))\n",
        "model.add(Dropout(0.2))\n",
        "model.add(SimpleRNN(50, return_sequences=False))\n",
        "model.add(Dropout(0.2))\n",
        "model.add(Dense(1))"
      ],
      "metadata": {
        "id": "aOVTSbcU_zxr"
      },
      "execution_count": 8,
      "outputs": []
    },
    {
      "cell_type": "code",
      "source": [
        "model.compile(optimizer='adam', loss='mean_squared_error')"
      ],
      "metadata": {
        "id": "Q2Izk-BD_2SM"
      },
      "execution_count": 9,
      "outputs": []
    },
    {
      "cell_type": "code",
      "source": [
        "history = model.fit(X_train_final, y_train_final, epochs=20, batch_size=32, validation_data=(X_val, y_val))"
      ],
      "metadata": {
        "colab": {
          "base_uri": "https://localhost:8080/"
        },
        "id": "0OJSMFkg_5id",
        "outputId": "2cf55051-1956-40af-f887-aad6a7d47fd8"
      },
      "execution_count": 10,
      "outputs": [
        {
          "output_type": "stream",
          "name": "stdout",
          "text": [
            "Epoch 1/20\n",
            "112/112 [==============================] - 7s 40ms/step - loss: 253263520.0000 - val_loss: 254448528.0000\n",
            "Epoch 2/20\n",
            "112/112 [==============================] - 3s 27ms/step - loss: 253058080.0000 - val_loss: 254252848.0000\n",
            "Epoch 3/20\n",
            "112/112 [==============================] - 3s 26ms/step - loss: 252897456.0000 - val_loss: 254067664.0000\n",
            "Epoch 4/20\n",
            "112/112 [==============================] - 3s 31ms/step - loss: 252746400.0000 - val_loss: 253886000.0000\n",
            "Epoch 5/20\n",
            "112/112 [==============================] - 4s 36ms/step - loss: 252595008.0000 - val_loss: 253705488.0000\n",
            "Epoch 6/20\n",
            "112/112 [==============================] - 3s 26ms/step - loss: 252441120.0000 - val_loss: 253524960.0000\n",
            "Epoch 7/20\n",
            "112/112 [==============================] - 5s 45ms/step - loss: 252295200.0000 - val_loss: 253345824.0000\n",
            "Epoch 8/20\n",
            "112/112 [==============================] - 5s 41ms/step - loss: 252142288.0000 - val_loss: 253168560.0000\n",
            "Epoch 9/20\n",
            "112/112 [==============================] - 3s 26ms/step - loss: 251991344.0000 - val_loss: 252989664.0000\n",
            "Epoch 10/20\n",
            "112/112 [==============================] - 3s 26ms/step - loss: 251847712.0000 - val_loss: 252812384.0000\n",
            "Epoch 11/20\n",
            "112/112 [==============================] - 3s 27ms/step - loss: 251699808.0000 - val_loss: 252635152.0000\n",
            "Epoch 12/20\n",
            "112/112 [==============================] - 4s 39ms/step - loss: 251544480.0000 - val_loss: 252457888.0000\n",
            "Epoch 13/20\n",
            "112/112 [==============================] - 3s 27ms/step - loss: 251402368.0000 - val_loss: 252280496.0000\n",
            "Epoch 14/20\n",
            "112/112 [==============================] - 3s 27ms/step - loss: 251255920.0000 - val_loss: 252104480.0000\n",
            "Epoch 15/20\n",
            "112/112 [==============================] - 3s 27ms/step - loss: 251100880.0000 - val_loss: 251927328.0000\n",
            "Epoch 16/20\n",
            "112/112 [==============================] - 5s 42ms/step - loss: 250958544.0000 - val_loss: 251751552.0000\n",
            "Epoch 17/20\n",
            "112/112 [==============================] - 3s 27ms/step - loss: 250815280.0000 - val_loss: 251575664.0000\n",
            "Epoch 18/20\n",
            "112/112 [==============================] - 3s 27ms/step - loss: 250667216.0000 - val_loss: 251399760.0000\n",
            "Epoch 19/20\n",
            "112/112 [==============================] - 3s 27ms/step - loss: 250522400.0000 - val_loss: 251223632.0000\n",
            "Epoch 20/20\n",
            "112/112 [==============================] - 4s 39ms/step - loss: 250374704.0000 - val_loss: 251048224.0000\n"
          ]
        }
      ]
    },
    {
      "cell_type": "code",
      "source": [
        "train_predictions = model.predict(X_train_final)\n",
        "val_predictions = model.predict(X_val)\n",
        "test_predictions = model.predict(X_test)"
      ],
      "metadata": {
        "colab": {
          "base_uri": "https://localhost:8080/"
        },
        "id": "0nASokk2AViu",
        "outputId": "5c47fce4-b19a-4db8-aad9-dc9175e70ada"
      },
      "execution_count": 11,
      "outputs": [
        {
          "output_type": "stream",
          "name": "stdout",
          "text": [
            "112/112 [==============================] - 1s 8ms/step\n",
            "28/28 [==============================] - 0s 8ms/step\n",
            "34/34 [==============================] - 0s 8ms/step\n"
          ]
        }
      ]
    },
    {
      "cell_type": "code",
      "source": [
        "mse_train = mean_squared_error(y_train_final, train_predictions)\n",
        "mape_train = mean_absolute_percentage_error(y_train_final, train_predictions)\n",
        "r2_train = r2_score(y_train_final, train_predictions)"
      ],
      "metadata": {
        "id": "UL-j2TImAZO7"
      },
      "execution_count": 12,
      "outputs": []
    },
    {
      "cell_type": "code",
      "source": [
        "print(f'Training Data Metrics:')\n",
        "print(f'MSE: {mse_train}')\n",
        "print(f'MAPE: {mape_train}')\n",
        "print(f'R2 Score: {r2_train}')"
      ],
      "metadata": {
        "colab": {
          "base_uri": "https://localhost:8080/"
        },
        "id": "tScCCl_LAdpE",
        "outputId": "3ae4528c-3a11-4efc-e525-c1030b03c84d"
      },
      "execution_count": 13,
      "outputs": [
        {
          "output_type": "stream",
          "name": "stdout",
          "text": [
            "Training Data Metrics:\n",
            "MSE: 250300507.3910511\n",
            "MAPE: 0.9719335360167851\n",
            "R2 Score: -2.0740017714095984\n"
          ]
        }
      ]
    },
    {
      "cell_type": "code",
      "source": [
        "mse_val = mean_squared_error(y_val, val_predictions)\n",
        "mape_val = mean_absolute_percentage_error(y_val, val_predictions)\n",
        "r2_val = r2_score(y_val, val_predictions)"
      ],
      "metadata": {
        "id": "xm-zq7JZAfCw"
      },
      "execution_count": 14,
      "outputs": []
    },
    {
      "cell_type": "code",
      "source": [
        "print(f'Validation Data Metrics:')\n",
        "print(f'MSE: {mse_val}')\n",
        "print(f'MAPE: {mape_val}')\n",
        "print(f'R2 Score: {r2_val}')\n"
      ],
      "metadata": {
        "colab": {
          "base_uri": "https://localhost:8080/"
        },
        "id": "pYp6xdGCAixF",
        "outputId": "716b57cd-c157-41a9-b2a9-66b42b4058cb"
      },
      "execution_count": 15,
      "outputs": [
        {
          "output_type": "stream",
          "name": "stdout",
          "text": [
            "Validation Data Metrics:\n",
            "MSE: 251048236.4135479\n",
            "MAPE: 0.9920551427483966\n",
            "R2 Score: -29.487876464921452\n"
          ]
        }
      ]
    },
    {
      "cell_type": "code",
      "source": [
        "mse_test = mean_squared_error(y_test, test_predictions)\n",
        "mape_test = mean_absolute_percentage_error(y_test, test_predictions)\n",
        "r2_test = r2_score(y_test, test_predictions)"
      ],
      "metadata": {
        "id": "9-ALzt1XAkTA"
      },
      "execution_count": 16,
      "outputs": []
    },
    {
      "cell_type": "code",
      "source": [
        "print(f'Test Data Metrics:')\n",
        "print(f'MSE: {mse_test}')\n",
        "print(f'MAPE: {mape_test}')\n",
        "print(f'R2 Score: {r2_test}')"
      ],
      "metadata": {
        "colab": {
          "base_uri": "https://localhost:8080/"
        },
        "id": "XrfnNoEjAnIJ",
        "outputId": "6d453b87-eef7-4927-d86a-d5efc26d0385"
      },
      "execution_count": 17,
      "outputs": [
        {
          "output_type": "stream",
          "name": "stdout",
          "text": [
            "Test Data Metrics:\n",
            "MSE: 106315246.70522903\n",
            "MAPE: 0.987731629493131\n",
            "R2 Score: -30.187841847845394\n"
          ]
        }
      ]
    },
    {
      "cell_type": "code",
      "source": [
        "plt.figure(figsize=(14, 7))\n",
        "plt.plot(data_train.index[seq_length:seq_length + len(y_train_final)], y_train_final, label='True Values (Train)', color='blue')\n",
        "plt.plot(data_train.index[seq_length:seq_length + len(train_predictions)], train_predictions, label='Train Predictions', color='cyan', alpha=0.7)\n",
        "plt.plot(data_train.index[seq_length + len(y_train_final):seq_length + len(y_train_final) + len(y_val)], y_val, label='True Values (Validation)', color='green')\n",
        "plt.plot(data_train.index[seq_length + len(train_predictions):seq_length + len(train_predictions) + len(val_predictions)], val_predictions, label='Validation Predictions', color='orange', alpha=0.7)\n",
        "plt.plot(data_test.index[:len(y_test)], y_test, label='True Values (Test)', color='red')\n",
        "plt.plot(data_test.index[:len(test_predictions)], test_predictions, label='Test Predictions', color='purple', alpha=0.7)\n",
        "plt.xlabel('Date')\n",
        "plt.ylabel('Stock Price')\n",
        "plt.legend()\n",
        "plt.title('Actual vs Predicted Stock Prices')\n",
        "plt.show()"
      ],
      "metadata": {
        "colab": {
          "base_uri": "https://localhost:8080/",
          "height": 641
        },
        "id": "COKjP2iLAp3v",
        "outputId": "c4625131-ae63-442b-ebbd-7e88f2b7cabe"
      },
      "execution_count": 18,
      "outputs": [
        {
          "output_type": "display_data",
          "data": {
            "text/plain": [
              "<Figure size 1400x700 with 1 Axes>"
            ],
            "image/png": "[encoded data removed]"
          },
          "metadata": {}
        }
      ]
    }
  ]
}